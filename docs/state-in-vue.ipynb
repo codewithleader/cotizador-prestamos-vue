{
 "cells": [
  {
   "cell_type": "markdown",
   "metadata": {},
   "source": [
    "# State en Vue\n",
    "\n",
    "- El state en vue es la fuente de la verdad (Source of Truth) de tu app.\n",
    "\n",
    "## Administrar State\n",
    "\n",
    "- Hay 2 formas sencillas de administrar el stado en Vue:\n",
    "\n",
    "1. ref: Toma valores primitivos.\n",
    "2. reactive: Toma Objetos.\n",
    "\n",
    "## Administrar el State en Equipos de trabajo\n",
    "\n",
    "- En un equipo de trabajo o un proyecto grande se recomienda administrar el state con una herramienta llamada `Pinia` (Sustituto de VueX)\n",
    "- Link PINIA: [https://pinia.vuejs.org/](https://pinia.vuejs.org/)\n"
   ]
  },
  {
   "cell_type": "code",
   "execution_count": null,
   "metadata": {
    "vscode": {
     "languageId": "vue"
    }
   },
   "outputs": [],
   "source": [
    "<script setup>\n",
    "import { ref, reactive } from \"vue\";\n",
    "\n",
    "const quantity = ref(0);\n",
    "const state = reactive({\n",
    "  quantity: 0\n",
    "});\n",
    "\n",
    "// Acceder al state en ref y en reactive:\n",
    "console.log(quantity.value); // Accede al valor en ref\n",
    "console.log(state.quantity); // Accede al valor en reactive\n",
    "</script>\n"
   ]
  },
  {
   "cell_type": "markdown",
   "metadata": {},
   "source": [
    "# Modificar el estado:"
   ]
  },
  {
   "cell_type": "code",
   "execution_count": null,
   "metadata": {
    "vscode": {
     "languageId": "vue"
    }
   },
   "outputs": [],
   "source": [
    "<!-- Ref -->\n",
    "<script setup>\n",
    "import { ref } from 'vue';\n",
    "\n",
    "const quantity = ref('Initial value');\n",
    "console.log(quantity); // 'Initial value'\n",
    "\n",
    "// Acceder al state en ref:\n",
    "quantity.value = 'New value';\n",
    "console.log(quantity); // 'New value'\n",
    "</script>\n"
   ]
  },
  {
   "cell_type": "code",
   "execution_count": null,
   "metadata": {
    "vscode": {
     "languageId": "vue"
    }
   },
   "outputs": [],
   "source": [
    "<!-- reactive -->\n",
    "<script setup>\n",
    "import { reactive } from 'vue';\n",
    "\n",
    "const state = reactive({\n",
    "  quantity: 'Initial value',\n",
    "});\n",
    "console.log(state.quantity); // 'Initial value'\n",
    "\n",
    "// Modificar el state en reactive:\n",
    "state.quantity = 'New value';\n",
    "console.log(state.quantity); // 'New value'\n",
    "</script>\n"
   ]
  }
 ],
 "metadata": {
  "language_info": {
   "name": "python"
  }
 },
 "nbformat": 4,
 "nbformat_minor": 2
}
