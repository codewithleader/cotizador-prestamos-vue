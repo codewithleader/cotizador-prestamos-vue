{
 "cells": [
  {
   "cell_type": "markdown",
   "metadata": {},
   "source": [
    "# Computed properties\n",
    "\n",
    "- Es una función que está al pendiente de los cambios de tu state y realiza los cambios necesarios cuando este cambia."
   ]
  },
  {
   "cell_type": "code",
   "execution_count": null,
   "metadata": {
    "vscode": {
     "languageId": "vue"
    }
   },
   "outputs": [],
   "source": [
    "<!-- Computed Properties -->\n",
    "<script setup>\n",
    "import { ref, computed } from 'vue';\n",
    "import Header from './components/Header.vue';\n",
    "\n",
    "const quantity = ref(10000);\n",
    "\n",
    "const MIN = 0;\n",
    "const MAX = 20000;\n",
    "const STEP = 100;\n",
    "\n",
    "const currencyFormat = computed(() => {\n",
    "  const formatter = new Intl.NumberFormat('en-US', {\n",
    "    style: 'currency',\n",
    "    currency: 'USD',\n",
    "  });\n",
    "\n",
    "  return formatter.format(quantity.value); // Se le pasa el valor a computar\n",
    "});\n",
    "</script>\n",
    "\n",
    "<template>\n",
    "  <div class=\"my-20 max-w-lg mx-auto bg-white shadow p-10\">\n",
    "    <Header />\n",
    "\n",
    "    <div class=\"my-5\">\n",
    "      <input\n",
    "        type=\"range\"\n",
    "        class=\"w-full bg-gray-200 accent-lime-500 hover:accent-lime-600\"\n",
    "        :min=\"MIN\"\n",
    "        :max=\"MAX\"\n",
    "        :step=\"STEP\"\n",
    "        v-model.number=\"quantity\"\n",
    "      />\n",
    "      <p class=\"text-center my-10 text-5xl font-extrabold text-indigo-600\">\n",
    "        {{ currencyFormat }}\n",
    "      </p>\n",
    "    </div>\n",
    "  </div>\n",
    "</template>\n"
   ]
  }
 ],
 "metadata": {
  "language_info": {
   "name": "python"
  }
 },
 "nbformat": 4,
 "nbformat_minor": 2
}
