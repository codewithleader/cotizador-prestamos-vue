{
 "cells": [
  {
   "cell_type": "markdown",
   "metadata": {},
   "source": [
    "# Los componentes en Vue se pueden escribir en 2 API´s diferentes:\n",
    "  - Options API.\n",
    "  - Composition API."
   ]
  },
  {
   "cell_type": "markdown",
   "metadata": {},
   "source": [
    "# Options API\n",
    "  - Utiliza sintaxis tipo objeto\n"
   ]
  },
  {
   "cell_type": "code",
   "execution_count": null,
   "metadata": {
    "vscode": {
     "languageId": "vue"
    }
   },
   "outputs": [],
   "source": [
    "<!-- No debe tener la palabra \"setup\" -->\n",
    "<script>\n",
    "import Header from './components/Header.vue';\n",
    "\n",
    "export default {\n",
    "  components: {\n",
    "    Header,\n",
    "  },\n",
    "};\n",
    "</script>\n",
    "\n",
    "<template>\n",
    "  <div class=\"my-20 max-w-lg mx-auto bg-white shadow p-10\">\n",
    "    <Header />\n",
    "  </div>\n",
    "</template>\n"
   ]
  },
  {
   "cell_type": "markdown",
   "metadata": {},
   "source": [
    "\n",
    "# Composition API\n",
    "  - Se define los componentes usando imports y escribiendo las funciones directamente en el Componente"
   ]
  },
  {
   "cell_type": "code",
   "execution_count": null,
   "metadata": {
    "vscode": {
     "languageId": "vue"
    }
   },
   "outputs": [],
   "source": [
    "<!-- Se agrega la palabra \"setup\" -->\n",
    "<script setup>\n",
    "import Header from './components/Header.vue';\n",
    "</script>\n",
    "\n",
    "<template>\n",
    "  <div class=\"my-20 max-w-lg mx-auto bg-white shadow p-10\">\n",
    "    <Header />\n",
    "  </div>\n",
    "</template>"
   ]
  }
 ],
 "metadata": {
  "language_info": {
   "name": "python"
  }
 },
 "nbformat": 4,
 "nbformat_minor": 2
}
