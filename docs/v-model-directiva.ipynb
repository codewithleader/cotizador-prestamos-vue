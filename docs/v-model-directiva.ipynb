{
 "cells": [
  {
   "cell_type": "markdown",
   "metadata": {},
   "source": [
    "# Directiva v-model"
   ]
  },
  {
   "cell_type": "code",
   "execution_count": null,
   "metadata": {
    "vscode": {
     "languageId": "vue"
    }
   },
   "outputs": [],
   "source": [
    "<!-- Sin v-model -->\n",
    "<script setup>\n",
    "import { ref } from 'vue';\n",
    "import Header from './components/Header.vue';\n",
    "\n",
    "const quantity = ref(10000);\n",
    "\n",
    "const MIN = 0;\n",
    "const MAX = 20000;\n",
    "const STEP = 100;\n",
    "\n",
    "function handleChange(e) {\n",
    "  quantity.value = Number(e.target.value);\n",
    "}\n",
    "</script>\n",
    "\n",
    "<template>\n",
    "  <div class=\"my-20 max-w-lg mx-auto bg-white shadow p-10\">\n",
    "    <Header />\n",
    "\n",
    "    <div class=\"my-5\">\n",
    "      <input\n",
    "        type=\"range\"\n",
    "        class=\"w-full bg-gray-200 accent-lime-500 hover:accent-lime-600\"\n",
    "        :min=\"MIN\"\n",
    "        :max=\"MAX\"\n",
    "        :step=\"STEP\"\n",
    "        @input=\"handleChange\"\n",
    "        :value=\"quantity\"\n",
    "      />\n",
    "      {{ quantity }}\n",
    "      <p v-text=\"quantity\"></p>\n",
    "    </div>\n",
    "  </div>\n",
    "</template>\n"
   ]
  },
  {
   "cell_type": "code",
   "execution_count": null,
   "metadata": {
    "vscode": {
     "languageId": "vue"
    }
   },
   "outputs": [],
   "source": [
    "<!-- Con v-model -->\n",
    "<script setup>\n",
    "import { ref } from 'vue';\n",
    "import Header from './components/Header.vue';\n",
    "\n",
    "const quantity = ref(10000);\n",
    "\n",
    "const MIN = 0;\n",
    "const MAX = 20000;\n",
    "const STEP = 100;\n",
    "\n",
    "// Ya no se necesita la funcion para modificar el state\n",
    "// function handleChange(e) {\n",
    "//   quantity.value = Number(e.target.value);\n",
    "// }\n",
    "</script>\n",
    "\n",
    "<template>\n",
    "  <div class=\"my-20 max-w-lg mx-auto bg-white shadow p-10\">\n",
    "    <Header />\n",
    "\n",
    "    <div class=\"my-5\">\n",
    "      <input\n",
    "        type=\"range\"\n",
    "        class=\"w-full bg-gray-200 accent-lime-500 hover:accent-lime-600\"\n",
    "        :min=\"MIN\"\n",
    "        :max=\"MAX\"\n",
    "        :step=\"STEP\"\n",
    "        v-model=\"quantity\"\n",
    "      />\n",
    "      {{ quantity }}\n",
    "      <p v-text=\"quantity\"></p>\n",
    "    </div>\n",
    "  </div>\n",
    "</template>\n"
   ]
  },
  {
   "cell_type": "markdown",
   "metadata": {},
   "source": [
    "# Modificadores\n",
    "\n",
    "- Convertir quantity a número:"
   ]
  },
  {
   "cell_type": "code",
   "execution_count": null,
   "metadata": {
    "vscode": {
     "languageId": "vue"
    }
   },
   "outputs": [],
   "source": [
    "<!-- v-model.number -->\n",
    "<script setup>\n",
    "import { ref } from 'vue';\n",
    "import Header from './components/Header.vue';\n",
    "\n",
    "const quantity = ref(10000);\n",
    "\n",
    "const MIN = 0;\n",
    "const MAX = 20000;\n",
    "const STEP = 100;\n",
    "</script>\n",
    "\n",
    "<template>\n",
    "  <div class=\"my-20 max-w-lg mx-auto bg-white shadow p-10\">\n",
    "    <Header />\n",
    "\n",
    "    <div class=\"my-5\">\n",
    "      <input\n",
    "        type=\"range\"\n",
    "        class=\"w-full bg-gray-200 accent-lime-500 hover:accent-lime-600\"\n",
    "        :min=\"MIN\"\n",
    "        :max=\"MAX\"\n",
    "        :step=\"STEP\"\n",
    "        v-model.number=\"quantity\"\n",
    "      />\n",
    "      {{ quantity }}\n",
    "      <p v-text=\"quantity\"></p>\n",
    "    </div>\n",
    "  </div>\n",
    "</template>\n"
   ]
  }
 ],
 "metadata": {
  "language_info": {
   "name": "python"
  }
 },
 "nbformat": 4,
 "nbformat_minor": 2
}
